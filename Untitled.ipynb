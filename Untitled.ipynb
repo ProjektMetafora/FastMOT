{
 "cells": [
  {
   "cell_type": "code",
   "execution_count": 1,
   "id": "prescribed-bargain",
   "metadata": {},
   "outputs": [],
   "source": [
    "from pathlib import Path\n",
    "import argparse\n",
    "import logging\n",
    "import time\n",
    "import json\n",
    "import cv2\n",
    "\n",
    "import fastmot"
   ]
  },
  {
   "cell_type": "code",
   "execution_count": 2,
   "id": "compound-offer",
   "metadata": {},
   "outputs": [],
   "source": [
    "from fastmot.mot import MOT"
   ]
  },
  {
   "cell_type": "code",
   "execution_count": 3,
   "id": "inside-fellowship",
   "metadata": {},
   "outputs": [
    {
     "name": "stdout",
     "output_type": "stream",
     "text": [
      "--2021-02-04 22:36:14--  https://geospatialmedia.s3.amazonaws.com/wp-content/uploads/2018/09/maxresdefault1.jpg\n",
      "Resolving geospatialmedia.s3.amazonaws.com (geospatialmedia.s3.amazonaws.com)... 52.217.18.188\n",
      "Connecting to geospatialmedia.s3.amazonaws.com (geospatialmedia.s3.amazonaws.com)|52.217.18.188|:443... connected.\n",
      "HTTP request sent, awaiting response... 200 OK\n",
      "Length: 57406 (56K) [image/jpeg]\n",
      "Saving to: 'test.jpg'\n",
      "\n",
      "test.jpg            100%[===================>]  56.06K   124KB/s    in 0.5s    \n",
      "\n",
      "2021-02-04 22:36:15 (124 KB/s) - 'test.jpg' saved [57406/57406]\n",
      "\n"
     ]
    }
   ],
   "source": [
    "! wget -O test.jpg https://geospatialmedia.s3.amazonaws.com/wp-content/uploads/2018/09/maxresdefault1.jpg"
   ]
  },
  {
   "cell_type": "code",
   "execution_count": 4,
   "id": "flexible-inside",
   "metadata": {},
   "outputs": [],
   "source": [
    "# load config file\n",
    "with open('cfg/mot.json') as config_file:\n",
    "    config = json.load(config_file, cls=fastmot.utils.ConfigDecoder)"
   ]
  },
  {
   "cell_type": "code",
   "execution_count": 5,
   "id": "handy-award",
   "metadata": {},
   "outputs": [],
   "source": [
    "def my_step(self, frame):\n",
    "    \"\"\"\n",
    "    Runs multiple object tracker on the next frame.\n",
    "    Parameters\n",
    "    ----------\n",
    "    frame : ndarray\n",
    "        The next frame.\n",
    "    \"\"\"\n",
    "    detections = []\n",
    "    if self.frame_count == 0:\n",
    "        detections = self.detector(self.frame_count, frame)\n",
    "        self.tracker.initiate(frame, detections)\n",
    "    else:\n",
    "        if self.frame_count % self.detector_frame_skip == 0:\n",
    "            tic = time.perf_counter()\n",
    "            self.detector.detect_async(self.frame_count, frame)\n",
    "            self.preproc_time += time.perf_counter() - tic\n",
    "            tic = time.perf_counter()\n",
    "            self.tracker.compute_flow(frame)\n",
    "            detections = self.detector.postprocess()\n",
    "            self.detector_time += time.perf_counter() - tic\n",
    "            tic = time.perf_counter()\n",
    "            self.extractor.extract_async(frame, detections)\n",
    "            self.tracker.apply_kalman()\n",
    "            embeddings = self.extractor.postprocess()\n",
    "            self.extractor_time += time.perf_counter() - tic\n",
    "            tic = time.perf_counter()\n",
    "            self.tracker.update(self.frame_count, detections, embeddings)\n",
    "            self.association_time += time.perf_counter() - tic\n",
    "            self.detector_frame_count += 1\n",
    "        else:\n",
    "            tic = time.perf_counter()\n",
    "            self.tracker.track(frame)\n",
    "            self.tracker_time += time.perf_counter() - tic\n",
    "\n",
    "    if self.draw:\n",
    "        self._draw(frame, detections)\n",
    "    self.frame_count += 1\n",
    "    \n",
    "    print('Detections: ', detections)"
   ]
  },
  {
   "cell_type": "code",
   "execution_count": 6,
   "id": "above-symposium",
   "metadata": {},
   "outputs": [],
   "source": [
    "MOT.step = my_step"
   ]
  },
  {
   "cell_type": "code",
   "execution_count": 1,
   "id": "numeric-breeding",
   "metadata": {},
   "outputs": [
    {
     "ename": "NameError",
     "evalue": "name 'MOT' is not defined",
     "output_type": "error",
     "traceback": [
      "\u001b[0;31m---------------------------------------------------------------------------\u001b[0m",
      "\u001b[0;31mNameError\u001b[0m                                 Traceback (most recent call last)",
      "\u001b[0;32m<ipython-input-1-8d75184f2b7b>\u001b[0m in \u001b[0;36m<module>\u001b[0;34m\u001b[0m\n\u001b[0;32m----> 1\u001b[0;31m \u001b[0mmot\u001b[0m \u001b[0;34m=\u001b[0m \u001b[0mMOT\u001b[0m\u001b[0;34m(\u001b[0m\u001b[0mconfig\u001b[0m\u001b[0;34m[\u001b[0m\u001b[0;34m'size'\u001b[0m\u001b[0;34m]\u001b[0m\u001b[0;34m,\u001b[0m \u001b[0;36m1.00\u001b[0m\u001b[0;34m,\u001b[0m \u001b[0mconfig\u001b[0m\u001b[0;34m[\u001b[0m\u001b[0;34m'mot'\u001b[0m\u001b[0;34m]\u001b[0m\u001b[0;34m,\u001b[0m \u001b[0mdraw\u001b[0m\u001b[0;34m=\u001b[0m\u001b[0;32mTrue\u001b[0m\u001b[0;34m,\u001b[0m \u001b[0mverbose\u001b[0m\u001b[0;34m=\u001b[0m\u001b[0;32mTrue\u001b[0m\u001b[0;34m)\u001b[0m\u001b[0;34m\u001b[0m\u001b[0;34m\u001b[0m\u001b[0m\n\u001b[0m",
      "\u001b[0;31mNameError\u001b[0m: name 'MOT' is not defined"
     ]
    }
   ],
   "source": [
    "mot = MOT(config['size'], 1.00, config['mot'], draw=True, verbose=True)"
   ]
  },
  {
   "cell_type": "code",
   "execution_count": 19,
   "id": "owned-respect",
   "metadata": {},
   "outputs": [
    {
     "name": "stdout",
     "output_type": "stream",
     "text": [
      "Makefile:20: \"compute=52\" is for GeForce GTX Titan X (Maxwell).  Please make sure CUDA compute is set correctly for your system in the Makefile.\n",
      "nvcc -ccbin g++ -I\"/usr/local/cuda/include\" -I\"/usr/include/x86_64-linux-gnu\" -I\"/usr/local/include\" -I\"plugin\" -m64 -gencode arch=compute_52,code=sm_52 -gencode arch=compute_52,code=compute_52 -Xcompiler -fPIC -c -o yolo_layer.o yolo_layer.cu\n",
      "yolo_layer.h(103): warning: function \"nvinfer1::IPluginV2Ext::configurePlugin(const nvinfer1::Dims *, int, const nvinfer1::Dims *, int, const nvinfer1::DataType *, const nvinfer1::DataType *, const __nv_bool *, const __nv_bool *, nvinfer1::PluginFormat, int)\" is hidden by \"nvinfer1::YoloLayerPlugin::configurePlugin\" -- virtual function override intended?\n",
      "\n",
      "yolo_layer.h(103): warning: function \"nvinfer1::IPluginV2Ext::configurePlugin(const nvinfer1::Dims *, int, const nvinfer1::Dims *, int, const nvinfer1::DataType *, const nvinfer1::DataType *, const bool *, const bool *, nvinfer1::PluginFormat, int)\" is hidden by \"nvinfer1::YoloLayerPlugin::configurePlugin\" -- virtual function override intended?\n",
      "\n",
      "g++ -shared -o libyolo_layer.so yolo_layer.o -L\"/usr/local/cuda/lib64\" -L\"/usr/lib/x86_64-linux-gnu\" -L\"/usr/local/lib\" -Wl,--start-group -lnvinfer -lnvparsers -lnvinfer_plugin -lcudnn -lcublas -lcudart_static -lnvToolsExt -lcudart -lrt -ldl -lpthread -Wl,--end-group\n"
     ]
    }
   ],
   "source": [
    "! cd fastmot/plugins && make"
   ]
  },
  {
   "cell_type": "code",
   "execution_count": 21,
   "id": "realistic-friend",
   "metadata": {},
   "outputs": [
    {
     "name": "stdout",
     "output_type": "stream",
     "text": [
      "total 78M\n",
      "drwxrwxrwx 1 root root 4.0K Feb  4 22:20 .\n",
      "drwxr-xr-x 1 root root 4.0K Feb  4 22:09 ..\n",
      "-rwxrwxrwx 1 root root  55M Jan 23  2020 drone-test.mp4\n",
      "-rwxrwxrwx 1 root root  23M Feb  5 08:54 output.mp4\n"
     ]
    }
   ],
   "source": [
    "! ls -alh /opt/data"
   ]
  },
  {
   "cell_type": "code",
   "execution_count": null,
   "id": "internal-syndication",
   "metadata": {},
   "outputs": [],
   "source": []
  }
 ],
 "metadata": {
  "kernelspec": {
   "display_name": "Python 3",
   "language": "python",
   "name": "python3"
  },
  "language_info": {
   "codemirror_mode": {
    "name": "ipython",
    "version": 3
   },
   "file_extension": ".py",
   "mimetype": "text/x-python",
   "name": "python",
   "nbconvert_exporter": "python",
   "pygments_lexer": "ipython3",
   "version": "3.6.9"
  }
 },
 "nbformat": 4,
 "nbformat_minor": 5
}
